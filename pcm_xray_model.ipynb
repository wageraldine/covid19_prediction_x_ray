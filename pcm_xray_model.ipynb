{
  "nbformat": 4,
  "nbformat_minor": 0,
  "metadata": {
    "colab": {
      "name": "pcm_xray_model.ipynb",
      "provenance": []
    },
    "kernelspec": {
      "name": "python3",
      "display_name": "Python 3"
    }
  },
  "cells": [
    {
      "cell_type": "code",
      "metadata": {
        "colab": {
          "base_uri": "https://localhost:8080/"
        },
        "id": "G0xnkECGGrKC",
        "outputId": "3fe11107-5859-4d94-a5ec-52f208739017"
      },
      "source": [
        "from google.colab import drive\n",
        "drive.mount('/content/drive')"
      ],
      "execution_count": null,
      "outputs": [
        {
          "output_type": "stream",
          "text": [
            "Drive already mounted at /content/drive; to attempt to forcibly remount, call drive.mount(\"/content/drive\", force_remount=True).\n"
          ],
          "name": "stdout"
        }
      ]
    },
    {
      "cell_type": "code",
      "metadata": {
        "id": "FofomnfKmQFq",
        "colab": {
          "base_uri": "https://localhost:8080/"
        },
        "outputId": "934425de-eb73-418e-db7d-19278db42a2b"
      },
      "source": [
        "import tensorflow as tf\n",
        "from tensorflow.keras.optimizers import RMSprop\n",
        "from tensorflow.keras.preprocessing.image import ImageDataGenerator\n",
        "import zipfile,os\n",
        "\n",
        "print(tf.__version__) # mengecek versi tensorflow"
      ],
      "execution_count": null,
      "outputs": [
        {
          "output_type": "stream",
          "text": [
            "2.4.1\n"
          ],
          "name": "stdout"
        }
      ]
    },
    {
      "cell_type": "code",
      "metadata": {
        "id": "BIdc1XtUGAei"
      },
      "source": [
        "# melakukan ekstraksi pada file zip\n",
        "zip_dir = '/content/drive/MyDrive/pcm_dataset/dataset_xray.zip'\n",
        "zip_ex = zipfile.ZipFile(zip_dir, 'r')\n",
        "zip_ex.extractall('/content/drive/MyDrive/pcm_dataset')\n",
        "zip_ex.close()"
      ],
      "execution_count": null,
      "outputs": []
    },
    {
      "cell_type": "code",
      "metadata": {
        "id": "_D03K0dYHN-Q"
      },
      "source": [
        "main_dir = '/content/drive/MyDrive/pcm_dataset/dataset_xray'\n",
        "training_dir = os.path.join(main_dir, 'training')\n",
        "validation_dir = os.path.join(main_dir, 'validation')"
      ],
      "execution_count": null,
      "outputs": []
    },
    {
      "cell_type": "code",
      "metadata": {
        "colab": {
          "base_uri": "https://localhost:8080/"
        },
        "id": "jql7bDTeWmIq",
        "outputId": "0573c391-fae1-49f3-92b9-3ca63964b9ef"
      },
      "source": [
        "os.listdir('/content/drive/MyDrive/pcm_dataset/dataset_xray/training')"
      ],
      "execution_count": null,
      "outputs": [
        {
          "output_type": "execute_result",
          "data": {
            "text/plain": [
              "['covid', 'normal', 'pneumonia']"
            ]
          },
          "metadata": {
            "tags": []
          },
          "execution_count": 21
        }
      ]
    },
    {
      "cell_type": "code",
      "metadata": {
        "colab": {
          "base_uri": "https://localhost:8080/"
        },
        "id": "As_cWFQnWsWF",
        "outputId": "35cf40f3-3f25-4686-b95b-159ff0d007a6"
      },
      "source": [
        "os.listdir('/content/drive/MyDrive/pcm_dataset/dataset_xray/validation')"
      ],
      "execution_count": null,
      "outputs": [
        {
          "output_type": "execute_result",
          "data": {
            "text/plain": [
              "['covid', 'normal', 'pneumonia']"
            ]
          },
          "metadata": {
            "tags": []
          },
          "execution_count": 22
        }
      ]
    },
    {
      "cell_type": "code",
      "metadata": {
        "id": "tWdVtuP3T9wm"
      },
      "source": [
        "# membuat folder rock pada directory training\n",
        "training_covid_dir = os.path.join(training_dir, 'covid')\n",
        "\n",
        "# membuat folder paper pada directory training\n",
        "training_normal_dir = os.path.join(training_dir, 'normal')\n",
        "\n",
        "# membuat folder scissors pada directory training\n",
        "training_pneumonia_dir = os.path.join(training_dir, 'pneumonia')\n",
        "\n",
        "# membuat folder rock pada directory validation\n",
        "validation_covid_dir = os.path.join(validation_dir, 'covid')\n",
        "\n",
        "# membuat folder paper pada directory validation\n",
        "validation_normal_dir = os.path.join(validation_dir, 'normal')\n",
        "\n",
        "# membuat folder scissors pada directory validation\n",
        "validation_pneumonia_dir = os.path.join(validation_dir, 'pneumonia')\n"
      ],
      "execution_count": null,
      "outputs": []
    },
    {
      "cell_type": "code",
      "metadata": {
        "id": "cpjVrwtfV-IU"
      },
      "source": [
        "# proses augmentasi gambar\n",
        "\n",
        "training_datagen = ImageDataGenerator(\n",
        "  rescale=1./255,\n",
        "  rotation_range=20,\n",
        "  horizontal_flip=True,\n",
        "  shear_range=0.2,\n",
        "  fill_mode='nearest'\n",
        ")\n",
        "\n",
        "test_datagen = ImageDataGenerator(\n",
        "  rescale=1./255,\n",
        "  rotation_range=20,\n",
        "  horizontal_flip=True,\n",
        "  shear_range=0.2,\n",
        "  fill_mode = 'nearest'  \n",
        ")"
      ],
      "execution_count": null,
      "outputs": []
    },
    {
      "cell_type": "code",
      "metadata": {
        "id": "MnOBPbCSXFjC",
        "colab": {
          "base_uri": "https://localhost:8080/"
        },
        "outputId": "e434789c-3473-442d-a583-1416026d336d"
      },
      "source": [
        "training_generator = training_datagen.flow_from_directory(\n",
        "    training_dir, # directory training\n",
        "    target_size=(150, 150),\n",
        "    batch_size=4,\n",
        "    class_mode='categorical'\n",
        ")\n",
        "\n",
        "validation_generator = test_datagen.flow_from_directory(\n",
        "    validation_dir, # directory validation\n",
        "    target_size=(150, 150),\n",
        "    batch_size=4,\n",
        "    class_mode='categorical'\n",
        ")"
      ],
      "execution_count": null,
      "outputs": [
        {
          "output_type": "stream",
          "text": [
            "Found 3096 images belonging to 3 classes.\n",
            "Found 760 images belonging to 3 classes.\n"
          ],
          "name": "stdout"
        }
      ]
    },
    {
      "cell_type": "code",
      "metadata": {
        "id": "CjyroOxjYt7X"
      },
      "source": [
        "model = tf.keras.models.Sequential([\n",
        "  tf.keras.layers.Conv2D(32, (3, 3), activation='relu', input_shape=(150, 150, 3)),\n",
        "  tf.keras.layers.MaxPooling2D(2, 2),\n",
        "  tf.keras.layers.Conv2D(64, (3, 3), activation='relu'),\n",
        "  tf.keras.layers.MaxPooling2D(2, 2),\n",
        "  tf.keras.layers.Conv2D(64, (3, 3), activation='relu'),\n",
        "  tf.keras.layers.MaxPooling2D(2, 2),\n",
        "  tf.keras.layers.Conv2D(128, (3, 3), activation=\"relu\"),\n",
        "  tf.keras.layers.MaxPooling2D(2, 2),\n",
        "  tf.keras.layers.Conv2D(128, (3, 3), activation=\"relu\"),\n",
        "  tf.keras.layers.MaxPooling2D(2, 2),\n",
        "  tf.keras.layers.Flatten(),\n",
        "  tf.keras.layers.Dense(512, activation=\"relu\"),\n",
        "  tf.keras.layers.Dense(3, activation=\"softmax\")\n",
        "])"
      ],
      "execution_count": null,
      "outputs": []
    },
    {
      "cell_type": "code",
      "metadata": {
        "id": "4vw-pDHvbqH8"
      },
      "source": [
        "model.compile(loss=\"categorical_crossentropy\",\n",
        "              optimizer=tf.optimizers.Adamax(),\n",
        "              metrics=['accuracy'])"
      ],
      "execution_count": null,
      "outputs": []
    },
    {
      "cell_type": "code",
      "metadata": {
        "id": "Zj-NwpWJdKaB",
        "colab": {
          "base_uri": "https://localhost:8080/"
        },
        "outputId": "e6c36239-62a2-4087-b671-e86d5f35164e"
      },
      "source": [
        "model_fit = model.fit(\n",
        "    training_generator,\n",
        "    steps_per_epoch=25,\n",
        "    epochs=100,\n",
        "    validation_data=validation_generator,\n",
        "    validation_steps=5,\n",
        "    verbose=2\n",
        ")"
      ],
      "execution_count": null,
      "outputs": [
        {
          "output_type": "stream",
          "text": [
            "Epoch 1/100\n",
            "25/25 - 7s - loss: 0.2235 - accuracy: 0.9200 - val_loss: 0.1207 - val_accuracy: 0.9500\n",
            "Epoch 2/100\n",
            "25/25 - 6s - loss: 0.0874 - accuracy: 0.9800 - val_loss: 0.1755 - val_accuracy: 0.9000\n",
            "Epoch 3/100\n",
            "25/25 - 7s - loss: 0.1949 - accuracy: 0.9300 - val_loss: 0.0453 - val_accuracy: 1.0000\n",
            "Epoch 4/100\n",
            "25/25 - 6s - loss: 0.1079 - accuracy: 0.9600 - val_loss: 0.1025 - val_accuracy: 0.9500\n",
            "Epoch 5/100\n",
            "25/25 - 6s - loss: 0.1312 - accuracy: 0.9700 - val_loss: 0.3050 - val_accuracy: 0.9500\n",
            "Epoch 6/100\n",
            "25/25 - 6s - loss: 0.2560 - accuracy: 0.9100 - val_loss: 0.0731 - val_accuracy: 0.9500\n",
            "Epoch 7/100\n",
            "25/25 - 7s - loss: 0.1682 - accuracy: 0.9600 - val_loss: 0.3716 - val_accuracy: 0.8000\n",
            "Epoch 8/100\n",
            "25/25 - 6s - loss: 0.1286 - accuracy: 0.9400 - val_loss: 0.0982 - val_accuracy: 0.9500\n",
            "Epoch 9/100\n",
            "25/25 - 6s - loss: 0.0974 - accuracy: 0.9700 - val_loss: 0.1604 - val_accuracy: 0.9500\n",
            "Epoch 10/100\n",
            "25/25 - 6s - loss: 0.2503 - accuracy: 0.9100 - val_loss: 0.3756 - val_accuracy: 0.8000\n",
            "Epoch 11/100\n",
            "25/25 - 6s - loss: 0.2501 - accuracy: 0.8900 - val_loss: 0.2362 - val_accuracy: 0.9000\n",
            "Epoch 12/100\n",
            "25/25 - 6s - loss: 0.1759 - accuracy: 0.9400 - val_loss: 0.3375 - val_accuracy: 0.9000\n",
            "Epoch 13/100\n",
            "25/25 - 6s - loss: 0.1159 - accuracy: 0.9600 - val_loss: 0.3286 - val_accuracy: 0.9500\n",
            "Epoch 14/100\n",
            "25/25 - 6s - loss: 0.2125 - accuracy: 0.9200 - val_loss: 0.3841 - val_accuracy: 0.8000\n",
            "Epoch 15/100\n",
            "25/25 - 6s - loss: 0.1755 - accuracy: 0.9400 - val_loss: 0.1715 - val_accuracy: 0.9000\n",
            "Epoch 16/100\n",
            "25/25 - 7s - loss: 0.1141 - accuracy: 0.9500 - val_loss: 0.6501 - val_accuracy: 0.8000\n",
            "Epoch 17/100\n",
            "25/25 - 6s - loss: 0.1623 - accuracy: 0.9400 - val_loss: 0.0698 - val_accuracy: 1.0000\n",
            "Epoch 18/100\n",
            "25/25 - 6s - loss: 0.1709 - accuracy: 0.9400 - val_loss: 0.0959 - val_accuracy: 0.9500\n",
            "Epoch 19/100\n",
            "25/25 - 7s - loss: 0.1645 - accuracy: 0.9200 - val_loss: 0.1332 - val_accuracy: 0.9000\n",
            "Epoch 20/100\n",
            "25/25 - 7s - loss: 0.1467 - accuracy: 0.9500 - val_loss: 0.2044 - val_accuracy: 0.9000\n",
            "Epoch 21/100\n",
            "25/25 - 7s - loss: 0.1825 - accuracy: 0.9400 - val_loss: 0.1685 - val_accuracy: 0.9000\n",
            "Epoch 22/100\n",
            "25/25 - 7s - loss: 0.1769 - accuracy: 0.9400 - val_loss: 0.0578 - val_accuracy: 1.0000\n",
            "Epoch 23/100\n",
            "25/25 - 6s - loss: 0.2237 - accuracy: 0.9200 - val_loss: 0.1421 - val_accuracy: 0.9500\n",
            "Epoch 24/100\n",
            "25/25 - 7s - loss: 0.1063 - accuracy: 0.9600 - val_loss: 0.0415 - val_accuracy: 1.0000\n",
            "Epoch 25/100\n",
            "25/25 - 6s - loss: 0.2417 - accuracy: 0.9200 - val_loss: 0.2447 - val_accuracy: 0.9500\n",
            "Epoch 26/100\n",
            "25/25 - 6s - loss: 0.1125 - accuracy: 0.9400 - val_loss: 0.2413 - val_accuracy: 0.9000\n",
            "Epoch 27/100\n",
            "25/25 - 6s - loss: 0.1482 - accuracy: 0.9600 - val_loss: 0.2771 - val_accuracy: 0.8500\n",
            "Epoch 28/100\n",
            "25/25 - 6s - loss: 0.1147 - accuracy: 0.9500 - val_loss: 0.3946 - val_accuracy: 0.9000\n",
            "Epoch 29/100\n",
            "25/25 - 6s - loss: 0.0707 - accuracy: 0.9800 - val_loss: 0.8347 - val_accuracy: 0.8500\n",
            "Epoch 30/100\n",
            "25/25 - 7s - loss: 0.2047 - accuracy: 0.9400 - val_loss: 0.3832 - val_accuracy: 0.8500\n",
            "Epoch 31/100\n",
            "25/25 - 6s - loss: 0.1639 - accuracy: 0.9400 - val_loss: 0.1188 - val_accuracy: 0.9500\n",
            "Epoch 32/100\n",
            "25/25 - 6s - loss: 0.1340 - accuracy: 0.9500 - val_loss: 0.4322 - val_accuracy: 0.9000\n",
            "Epoch 33/100\n",
            "25/25 - 7s - loss: 0.1565 - accuracy: 0.9200 - val_loss: 0.4267 - val_accuracy: 0.9500\n",
            "Epoch 34/100\n",
            "25/25 - 7s - loss: 0.1558 - accuracy: 0.9300 - val_loss: 0.0242 - val_accuracy: 1.0000\n",
            "Epoch 35/100\n",
            "25/25 - 6s - loss: 0.2077 - accuracy: 0.9300 - val_loss: 0.1047 - val_accuracy: 1.0000\n",
            "Epoch 36/100\n",
            "25/25 - 6s - loss: 0.1542 - accuracy: 0.9300 - val_loss: 0.1140 - val_accuracy: 0.9500\n",
            "Epoch 37/100\n",
            "25/25 - 7s - loss: 0.1294 - accuracy: 0.9300 - val_loss: 0.2129 - val_accuracy: 0.9500\n",
            "Epoch 38/100\n",
            "25/25 - 6s - loss: 0.2699 - accuracy: 0.9000 - val_loss: 0.2680 - val_accuracy: 0.9000\n",
            "Epoch 39/100\n",
            "25/25 - 6s - loss: 0.1348 - accuracy: 0.9600 - val_loss: 0.0502 - val_accuracy: 1.0000\n",
            "Epoch 40/100\n",
            "25/25 - 6s - loss: 0.0581 - accuracy: 0.9800 - val_loss: 0.0687 - val_accuracy: 1.0000\n",
            "Epoch 41/100\n",
            "25/25 - 6s - loss: 0.1669 - accuracy: 0.9400 - val_loss: 0.1886 - val_accuracy: 0.9500\n",
            "Epoch 42/100\n",
            "25/25 - 6s - loss: 0.1448 - accuracy: 0.9500 - val_loss: 0.1731 - val_accuracy: 0.9500\n",
            "Epoch 43/100\n",
            "25/25 - 7s - loss: 0.0392 - accuracy: 1.0000 - val_loss: 0.0222 - val_accuracy: 1.0000\n",
            "Epoch 44/100\n",
            "25/25 - 6s - loss: 0.1703 - accuracy: 0.9200 - val_loss: 0.0305 - val_accuracy: 1.0000\n",
            "Epoch 45/100\n",
            "25/25 - 6s - loss: 0.1090 - accuracy: 0.9600 - val_loss: 0.0508 - val_accuracy: 1.0000\n",
            "Epoch 46/100\n",
            "25/25 - 6s - loss: 0.1086 - accuracy: 0.9600 - val_loss: 0.1106 - val_accuracy: 0.9500\n",
            "Epoch 47/100\n",
            "25/25 - 6s - loss: 0.1314 - accuracy: 0.9200 - val_loss: 0.1205 - val_accuracy: 0.9500\n",
            "Epoch 48/100\n",
            "25/25 - 7s - loss: 0.1474 - accuracy: 0.9300 - val_loss: 0.0920 - val_accuracy: 0.9500\n",
            "Epoch 49/100\n",
            "25/25 - 6s - loss: 0.0799 - accuracy: 0.9800 - val_loss: 0.0399 - val_accuracy: 1.0000\n",
            "Epoch 50/100\n",
            "25/25 - 7s - loss: 0.1650 - accuracy: 0.9500 - val_loss: 0.0572 - val_accuracy: 0.9500\n",
            "Epoch 51/100\n",
            "25/25 - 6s - loss: 0.1443 - accuracy: 0.9500 - val_loss: 0.2068 - val_accuracy: 0.9000\n",
            "Epoch 52/100\n",
            "25/25 - 6s - loss: 0.1160 - accuracy: 0.9500 - val_loss: 0.1448 - val_accuracy: 0.9500\n",
            "Epoch 53/100\n",
            "25/25 - 6s - loss: 0.2061 - accuracy: 0.9300 - val_loss: 0.0275 - val_accuracy: 1.0000\n",
            "Epoch 54/100\n",
            "25/25 - 6s - loss: 0.0922 - accuracy: 0.9800 - val_loss: 0.4678 - val_accuracy: 0.9500\n",
            "Epoch 55/100\n",
            "25/25 - 6s - loss: 0.1359 - accuracy: 0.9300 - val_loss: 0.0190 - val_accuracy: 1.0000\n",
            "Epoch 56/100\n",
            "25/25 - 6s - loss: 0.1354 - accuracy: 0.9600 - val_loss: 0.9240 - val_accuracy: 0.9000\n",
            "Epoch 57/100\n",
            "25/25 - 6s - loss: 0.0911 - accuracy: 0.9700 - val_loss: 0.1032 - val_accuracy: 0.9500\n",
            "Epoch 58/100\n",
            "25/25 - 6s - loss: 0.2070 - accuracy: 0.9300 - val_loss: 0.1601 - val_accuracy: 0.9500\n",
            "Epoch 59/100\n",
            "25/25 - 7s - loss: 0.0683 - accuracy: 0.9800 - val_loss: 0.3594 - val_accuracy: 0.9500\n",
            "Epoch 60/100\n",
            "25/25 - 6s - loss: 0.1564 - accuracy: 0.9300 - val_loss: 0.3289 - val_accuracy: 0.9000\n",
            "Epoch 61/100\n",
            "25/25 - 6s - loss: 0.0924 - accuracy: 0.9700 - val_loss: 0.7501 - val_accuracy: 0.9000\n",
            "Epoch 62/100\n",
            "25/25 - 6s - loss: 0.1719 - accuracy: 0.9400 - val_loss: 0.2523 - val_accuracy: 0.9000\n",
            "Epoch 63/100\n",
            "25/25 - 6s - loss: 0.0704 - accuracy: 0.9800 - val_loss: 0.5974 - val_accuracy: 0.8500\n",
            "Epoch 64/100\n",
            "25/25 - 6s - loss: 0.2972 - accuracy: 0.8900 - val_loss: 0.0452 - val_accuracy: 1.0000\n",
            "Epoch 65/100\n",
            "25/25 - 6s - loss: 0.0861 - accuracy: 0.9700 - val_loss: 0.4272 - val_accuracy: 0.9500\n",
            "Epoch 66/100\n",
            "25/25 - 6s - loss: 0.1456 - accuracy: 0.9400 - val_loss: 0.0514 - val_accuracy: 0.9500\n",
            "Epoch 67/100\n",
            "25/25 - 6s - loss: 0.0644 - accuracy: 0.9900 - val_loss: 0.2415 - val_accuracy: 0.9500\n",
            "Epoch 68/100\n",
            "25/25 - 6s - loss: 0.1339 - accuracy: 0.9400 - val_loss: 0.0479 - val_accuracy: 1.0000\n",
            "Epoch 69/100\n",
            "25/25 - 7s - loss: 0.2252 - accuracy: 0.9300 - val_loss: 0.0521 - val_accuracy: 1.0000\n",
            "Epoch 70/100\n",
            "25/25 - 6s - loss: 0.1352 - accuracy: 0.9400 - val_loss: 0.6590 - val_accuracy: 0.9000\n",
            "Epoch 71/100\n",
            "25/25 - 6s - loss: 0.2297 - accuracy: 0.9200 - val_loss: 0.1627 - val_accuracy: 0.9000\n",
            "Epoch 72/100\n",
            "25/25 - 6s - loss: 0.2017 - accuracy: 0.9300 - val_loss: 0.4526 - val_accuracy: 0.9500\n",
            "Epoch 73/100\n",
            "25/25 - 6s - loss: 0.1571 - accuracy: 0.9100 - val_loss: 0.1923 - val_accuracy: 0.9000\n",
            "Epoch 74/100\n",
            "25/25 - 7s - loss: 0.1949 - accuracy: 0.9200 - val_loss: 0.1537 - val_accuracy: 0.9500\n",
            "Epoch 75/100\n",
            "25/25 - 7s - loss: 0.1483 - accuracy: 0.9600 - val_loss: 0.8055 - val_accuracy: 0.9000\n",
            "Epoch 76/100\n",
            "25/25 - 6s - loss: 0.1284 - accuracy: 0.9400 - val_loss: 0.0220 - val_accuracy: 1.0000\n",
            "Epoch 77/100\n",
            "25/25 - 6s - loss: 0.2141 - accuracy: 0.9300 - val_loss: 0.3055 - val_accuracy: 0.9500\n",
            "Epoch 78/100\n",
            "25/25 - 7s - loss: 0.0589 - accuracy: 0.9800 - val_loss: 0.0091 - val_accuracy: 1.0000\n",
            "Epoch 79/100\n",
            "25/25 - 7s - loss: 0.1374 - accuracy: 0.9600 - val_loss: 1.2907 - val_accuracy: 0.8500\n",
            "Epoch 80/100\n",
            "25/25 - 6s - loss: 0.1350 - accuracy: 0.9300 - val_loss: 0.0585 - val_accuracy: 0.9500\n",
            "Epoch 81/100\n",
            "25/25 - 6s - loss: 0.0898 - accuracy: 0.9600 - val_loss: 0.0310 - val_accuracy: 1.0000\n",
            "Epoch 82/100\n",
            "25/25 - 6s - loss: 0.1188 - accuracy: 0.9700 - val_loss: 0.1382 - val_accuracy: 0.9000\n",
            "Epoch 83/100\n",
            "25/25 - 6s - loss: 0.0830 - accuracy: 0.9700 - val_loss: 0.0550 - val_accuracy: 0.9500\n",
            "Epoch 84/100\n",
            "25/25 - 6s - loss: 0.1383 - accuracy: 0.9500 - val_loss: 0.6701 - val_accuracy: 0.8000\n",
            "Epoch 85/100\n",
            "25/25 - 6s - loss: 0.1453 - accuracy: 0.9400 - val_loss: 0.0404 - val_accuracy: 1.0000\n",
            "Epoch 86/100\n",
            "25/25 - 6s - loss: 0.2319 - accuracy: 0.9600 - val_loss: 0.0542 - val_accuracy: 1.0000\n",
            "Epoch 87/100\n",
            "25/25 - 7s - loss: 0.1367 - accuracy: 0.9600 - val_loss: 0.1300 - val_accuracy: 0.9500\n",
            "Epoch 88/100\n",
            "25/25 - 7s - loss: 0.0874 - accuracy: 0.9800 - val_loss: 0.1868 - val_accuracy: 0.9500\n",
            "Epoch 89/100\n",
            "25/25 - 6s - loss: 0.1066 - accuracy: 0.9600 - val_loss: 0.0595 - val_accuracy: 1.0000\n",
            "Epoch 90/100\n",
            "25/25 - 6s - loss: 0.1541 - accuracy: 0.9500 - val_loss: 0.2542 - val_accuracy: 0.9500\n",
            "Epoch 91/100\n",
            "25/25 - 6s - loss: 0.1393 - accuracy: 0.9400 - val_loss: 0.4215 - val_accuracy: 0.8500\n",
            "Epoch 92/100\n",
            "25/25 - 6s - loss: 0.0778 - accuracy: 0.9800 - val_loss: 0.3194 - val_accuracy: 0.9000\n",
            "Epoch 93/100\n",
            "25/25 - 6s - loss: 0.2223 - accuracy: 0.9600 - val_loss: 0.0482 - val_accuracy: 1.0000\n",
            "Epoch 94/100\n",
            "25/25 - 7s - loss: 0.1884 - accuracy: 0.9300 - val_loss: 0.0727 - val_accuracy: 1.0000\n",
            "Epoch 95/100\n",
            "25/25 - 6s - loss: 0.1275 - accuracy: 0.9500 - val_loss: 0.0315 - val_accuracy: 1.0000\n",
            "Epoch 96/100\n",
            "25/25 - 6s - loss: 0.1848 - accuracy: 0.9600 - val_loss: 0.4452 - val_accuracy: 0.9500\n",
            "Epoch 97/100\n",
            "25/25 - 6s - loss: 0.1019 - accuracy: 0.9500 - val_loss: 0.1599 - val_accuracy: 0.9500\n",
            "Epoch 98/100\n",
            "25/25 - 6s - loss: 0.1962 - accuracy: 0.9400 - val_loss: 0.0769 - val_accuracy: 0.9500\n",
            "Epoch 99/100\n",
            "25/25 - 6s - loss: 0.1689 - accuracy: 0.9400 - val_loss: 0.0963 - val_accuracy: 0.9500\n",
            "Epoch 100/100\n",
            "25/25 - 6s - loss: 0.1081 - accuracy: 0.9800 - val_loss: 0.2843 - val_accuracy: 0.9000\n"
          ],
          "name": "stdout"
        }
      ]
    },
    {
      "cell_type": "code",
      "metadata": {
        "colab": {
          "base_uri": "https://localhost:8080/"
        },
        "id": "vBwmdXPfx7nj",
        "outputId": "5b8b1b9c-b37b-48b6-bf4c-0aba71e2e178"
      },
      "source": [
        "scores = model.evaluate(training_generator, verbose=0)\n",
        "print(\"Accuracy: %.2f%%\" % (scores[1]*100))"
      ],
      "execution_count": null,
      "outputs": [
        {
          "output_type": "stream",
          "text": [
            "Accuracy: 95.35%\n"
          ],
          "name": "stdout"
        }
      ]
    },
    {
      "cell_type": "code",
      "metadata": {
        "id": "kxDpEYfMnWV2"
      },
      "source": [
        "model.save('/content/drive/MyDrive/pcm_dataset/model_pcm_xray_v2.h5', include_optimizer=False)"
      ],
      "execution_count": null,
      "outputs": []
    },
    {
      "cell_type": "code",
      "metadata": {
        "id": "Vdc6vEW7w9l4"
      },
      "source": [
        "from tensorflow.keras.models import load_model\n",
        "\n",
        "MODEL_PATH = '/content/drive/MyDrive/pcm_dataset/model_pcm_xray.h5'\n",
        "model_pcm_xray = load_model(MODEL_PATH,compile=False)"
      ],
      "execution_count": null,
      "outputs": []
    },
    {
      "cell_type": "code",
      "metadata": {
        "id": "69s-9Z1HfgC6",
        "colab": {
          "resources": {
            "http://localhost:8080/nbextensions/google.colab/files.js": {
              "data": "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",
              "ok": true,
              "headers": [
                [
                  "content-type",
                  "application/javascript"
                ]
              ],
              "status": 200,
              "status_text": ""
            }
          },
          "base_uri": "https://localhost:8080/",
          "height": 37
        },
        "outputId": "ecf5fa7b-3434-46af-b6be-89cc76466922"
      },
      "source": [
        "import numpy as np\n",
        "from google.colab import files\n",
        "from sklearn.metrics import accuracy_score\n",
        "from keras.preprocessing import image\n",
        "import matplotlib.pyplot as plt\n",
        "import matplotlib.image as mpimg\n",
        "%matplotlib inline\n",
        "\n",
        "gambar = files.upload()\n",
        "\n",
        "for analis in gambar.keys():\n",
        "    # melakukan prediksi gambar\n",
        "    path = analis\n",
        "    gmbr = image.load_img(path, target_size=(150, 150))\n",
        "    gmbrplot = plt.imshow(gmbr)\n",
        "    x = image.img_to_array(gmbr)\n",
        "    x = np.expand_dims(x, axis=0)\n",
        "\n",
        "    gambar = np.vstack([x])\n",
        "    kelas = model.predict(gambar, batch_size=10)\n",
        "    score = tf.nn.softmax(kelas[0])\n",
        "    akurasi = 100 * np.max(kelas)\n",
        "\n",
        "    print('Hasil : ')\n",
        "    if kelas[0][0]==1:\n",
        "        print('Positif Covid-19')\n",
        "    elif kelas[0][1]==1:\n",
        "        print('Normal')\n",
        "    elif kelas[0][2]==1:\n",
        "        print('Positif Pneumonia')\n",
        "    print('Kepercayaan diri akurasi : ', kelas)\n",
        "    print(path)"
      ],
      "execution_count": null,
      "outputs": [
        {
          "output_type": "display_data",
          "data": {
            "text/html": [
              "\n",
              "     <input type=\"file\" id=\"files-f97e14a2-f468-4bfb-a3b5-6c9c91818d8a\" name=\"files[]\" multiple disabled\n",
              "        style=\"border:none\" />\n",
              "     <output id=\"result-f97e14a2-f468-4bfb-a3b5-6c9c91818d8a\">\n",
              "      Upload widget is only available when the cell has been executed in the\n",
              "      current browser session. Please rerun this cell to enable.\n",
              "      </output>\n",
              "      <script src=\"/nbextensions/google.colab/files.js\"></script> "
            ],
            "text/plain": [
              "<IPython.core.display.HTML object>"
            ]
          },
          "metadata": {
            "tags": []
          }
        }
      ]
    }
  ]
}